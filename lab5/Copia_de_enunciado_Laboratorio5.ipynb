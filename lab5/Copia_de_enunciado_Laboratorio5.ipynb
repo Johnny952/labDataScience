{
  "nbformat": 4,
  "nbformat_minor": 0,
  "metadata": {
    "kernelspec": {
      "display_name": "Python 3",
      "language": "python",
      "name": "python3"
    },
    "language_info": {
      "codemirror_mode": {
        "name": "ipython",
        "version": 3
      },
      "file_extension": ".py",
      "mimetype": "text/x-python",
      "name": "python",
      "nbconvert_exporter": "python",
      "pygments_lexer": "ipython3",
      "version": "3.8.3"
    },
    "toc": {
      "base_numbering": 1,
      "nav_menu": {},
      "number_sections": true,
      "sideBar": true,
      "skip_h1_title": true,
      "title_cell": "Tabla de Contenidos",
      "title_sidebar": "Contenidos",
      "toc_cell": false,
      "toc_position": {
        "height": "calc(100% - 180px)",
        "left": "10px",
        "top": "150px",
        "width": "241.867px"
      },
      "toc_section_display": true,
      "toc_window_display": true
    },
    "varInspector": {
      "cols": {
        "lenName": 16,
        "lenType": 16,
        "lenVar": 40
      },
      "kernels_config": {
        "python": {
          "delete_cmd_postfix": "",
          "delete_cmd_prefix": "del ",
          "library": "var_list.py",
          "varRefreshCmd": "print(var_dic_list())"
        },
        "r": {
          "delete_cmd_postfix": ") ",
          "delete_cmd_prefix": "rm(",
          "library": "var_list.r",
          "varRefreshCmd": "cat(var_dic_list()) "
        }
      },
      "types_to_exclude": [
        "module",
        "function",
        "builtin_function_or_method",
        "instance",
        "_Feature"
      ],
      "window_display": false
    },
    "colab": {
      "name": "Copia de enunciado_Laboratorio5.ipynb",
      "provenance": [],
      "collapsed_sections": []
    }
  },
  "cells": [
    {
      "cell_type": "markdown",
      "metadata": {
        "id": "XUZ1dFPHzAHl"
      },
      "source": [
        "<h1><center>Laboratorio 5: Benchmark Bayesiano 🧮</center></h1>\n",
        "\n",
        "<center><strong>MDS7202: Laboratorio de Programación Científica para Ciencia de Datos</strong></center>"
      ]
    },
    {
      "cell_type": "markdown",
      "metadata": {
        "id": "UD8X1uhGzAHq"
      },
      "source": [
        "### Cuerpo Docente:\n",
        "\n",
        "- Profesor: Pablo Badilla\n",
        "- Auxiliar: Ignacio Meza D.\n",
        "- Ayudante: Diego Irarrázaval"
      ]
    },
    {
      "cell_type": "markdown",
      "metadata": {
        "id": "tXflExjqzAHr"
      },
      "source": [
        "### Equipo: SUPER IMPORTANTE - notebooks sin nombre no serán revisados\n",
        "\n",
        "- Nombre de alumno 1: Jonathan Espínola\n",
        "- Nombre de alumno 2: Tomás Valencia\n"
      ]
    },
    {
      "cell_type": "markdown",
      "metadata": {
        "id": "AD-V0bbZzAHr"
      },
      "source": [
        "### **Link de repositorio de GitHub:** `https://github.com/Johnny952/labDataScience`"
      ]
    },
    {
      "cell_type": "markdown",
      "metadata": {
        "id": "EcnsiQMkzAHr"
      },
      "source": [
        "### Indice \n",
        "\n",
        "1. [Temas a tratar](#Temas-a-tratar:)\n",
        "3. [Descripcción del laboratorio](#Descripción-del-laboratorio.)\n",
        "4. [Objetivos principales del laboratorio](#Objetivos-principales-del-laboratorio)"
      ]
    },
    {
      "cell_type": "markdown",
      "metadata": {
        "id": "6uBLPj1PzAHs"
      },
      "source": [
        "# Temas a tratar\n",
        "\n",
        "- Optimización de Código en Python.\n",
        "- Utilización de librerías para medir el tiempo de ejecución de funciones.\n",
        "- Métodos para optimizar el rendimiento de las funciones.\n",
        "\n",
        "# Reglas:\n",
        "\n",
        "- Fecha de entrega: 4/06/2021\n",
        "- **Grupos de 2 personas**\n",
        "- **Ausentes** deberán realizar la actividad solos. \n",
        "- Cualquier duda fuera del horario de clases al foro. Mensajes al equipo docente serán respondidos por este medio.\n",
        "- Prohibidas las copias. \n",
        "- Pueden usar cualquer matrial del curso que estimen conveniente.\n",
        "\n",
        "# Objetivos principales del laboratorio\n",
        "\n",
        "- Obtener datos desde Reddit y visualizar cuales post son más probables que sean puntuados positivamente.\n",
        "- Aplicar un atajo bayesiano para obtener la mean posterior de datos.\n",
        "- Optimizar a través de librerías funciones."
      ]
    },
    {
      "cell_type": "markdown",
      "metadata": {
        "id": "MhISwri4zAHy"
      },
      "source": [
        "#Importamos librerias utiles 😸"
      ]
    },
    {
      "cell_type": "code",
      "metadata": {
        "id": "cO7AQ9ciQ59U"
      },
      "source": [
        "%%capture\n",
        "!pip install praw\n",
        "!pip install line_profiler\n",
        "import sys\n",
        "import praw\n",
        "import time\n",
        "import numpy as np\n",
        "import pandas as pd\n",
        "from numba import jit\n",
        "import plotly.express as px\n",
        "from functools import lru_cache\n",
        "from IPython.core.display import Image"
      ],
      "execution_count": 1,
      "outputs": []
    },
    {
      "cell_type": "markdown",
      "metadata": {
        "id": "xpOTbQcxbSiy"
      },
      "source": [
        "# 1. Recomendando Posts de Subreddit"
      ]
    },
    {
      "cell_type": "markdown",
      "metadata": {
        "id": "3Q93vbNS25bM"
      },
      "source": [
        "<p align=\"center\">\n",
        "  <img src=\"https://styles.redditmedia.com/t5_2rer8/styles/bannerBackgroundImage_6o2td1zc54671.jpg?width=4000&format=pjpg&s=600bcf8560dff264f1cc7c0785ba5f6d529e0c28\" width=\"10000\">\n",
        "</p>"
      ]
    },
    {
      "cell_type": "markdown",
      "metadata": {
        "id": "jnmZfFpxTTYX"
      },
      "source": [
        "Unos intrépidos alumnos del curso, quienes frecuentemente participan en subreddits y foros de reviews, se preguntan lo siguiente: ¿Podremos confiar que un post es bueno, si este tiene solamente 1 o 3 votos positivos?. los compañeros, creen que esto claramente no representa una opinión general, ya que estamos mucho menos seguros acerca de la verdadera proporción de votos a favor de los comentarios con pocos datos. ¿Pero cómo podemos obtener una representación más creíble para este problema?.\n",
        "\n",
        "Lo señalado forma parte de un problema Bayesiano, donde a través del cálculo de la posterior se puede conocer que tan probable es que un post sea bueno. Para efectos de este laboratorio, no se exige un conocimiento previo para resolver este problema, simplemente se deberá aplicar las ecuaciones presentadas más adelante (De igual forma si quedan interesados sobre el tema se les invita a tomar el ramo [CC6104](https://github.com/dccuchile/CC6104))."
      ]
    },
    {
      "cell_type": "markdown",
      "metadata": {
        "id": "xdbrb3AMi6EF"
      },
      "source": [
        "## 1.1 Obtención de Subrredits y Análisis"
      ]
    },
    {
      "cell_type": "markdown",
      "metadata": {
        "id": "YI-IRspcjPee"
      },
      "source": [
        "Para estudiar que tan probable es que un post sea positivo se comenzará cargando datos reales del subreddit chile desde reddit (si usted desea puede cambiar el subreddit a uno de su gusto). Para esto le proponemos la utilización de la función que aparece mas abajo, la que presenta un usuario ya creado por el equipo docente. Dese un tiempo para entender que hace cada parte de la función, visualizando que se obtiene de estas.\n",
        "\n",
        "Revisada la función, utilice un **perfilador** para monitorear el tiempo y memoria que les toma a las subfunciones ser ejecutadas (por linea de código, vean las clases). Señale cuales son los procesos que mas tiempo consumen en la ejecución del Código, comentando si es posible mejorar el desempeño de la función.\n",
        "\n",
        "**TO-DO:**\n",
        "- [ ] Estudiar la función propuesta por el equipo docente.\n",
        "- [ ] Estudiar los tiempos de ejecución del Código a través de un perfilador."
      ]
    },
    {
      "cell_type": "code",
      "metadata": {
        "id": "R4PQbceVPJzh"
      },
      "source": [
        "def praw_reddit(nombre_subreddit = 'chile', n_hot = 1000):\n",
        "  reddit = praw.Reddit(client_id='-w2hyFINxZ8T3g',\n",
        "                     client_secret='zGPCI4s3g6Ic6AsRi7vIpP0NoxbFdw',\n",
        "                     password='ClasesMDS7202',\n",
        "                     user_agent='Clases',\n",
        "                     username='DocenciaDataScience', check_for_async=False)\n",
        "  subreddit  = reddit.subreddit(nombre_subreddit)\n",
        "\n",
        "  votes, post, url = {}, {}, {}\n",
        "  top_submissions = list(subreddit.hot(limit = n_hot))\n",
        "  for it, top_n in enumerate(range(50, len(top_submissions),50)):\n",
        "    top_n_submissions = top_submissions[:top_n]\n",
        "    upvotes, downvotes, url[it], post[it] = [], [], [], []\n",
        "\n",
        "    for submission in top_n_submissions:\n",
        "        try:\n",
        "            ratio = submission.upvote_ratio\n",
        "            ups = int(round((ratio*submission.score)/(2*ratio - 1)) if ratio != 0.5 else round(submission.score/2))\n",
        "            upvotes.append(ups)\n",
        "            downvotes.append(ups - submission.score)\n",
        "            post[it].append(submission.title)\n",
        "            url[it].append(submission.url)\n",
        "        except Exception as e:\n",
        "            continue\n",
        "    votes[it] = np.array([upvotes, downvotes]).T\n",
        "  return votes, post, url"
      ],
      "execution_count": 2,
      "outputs": []
    },
    {
      "cell_type": "code",
      "metadata": {
        "id": "-01GF6cDDJ-7"
      },
      "source": [
        "%load_ext line_profiler"
      ],
      "execution_count": null,
      "outputs": []
    },
    {
      "cell_type": "code",
      "metadata": {
        "id": "8JZisW6fm0RB"
      },
      "source": [
        "#### Código Aquí ####\n",
        "%lprun -f praw_reddit praw_reddit()"
      ],
      "execution_count": null,
      "outputs": []
    },
    {
      "cell_type": "markdown",
      "metadata": {
        "id": "-diI_GpXmzqS"
      },
      "source": [
        "**Respuesta:**"
      ]
    },
    {
      "cell_type": "markdown",
      "metadata": {
        "id": "6gdqQBi1m_cu"
      },
      "source": [
        "Timer unit: 1e-06 s\n",
        "\n",
        "Total time: 17.2401 s\n",
        "File: <ipython-input-2-d987b25ddeb0>\n",
        "Function: praw_reddit at line 1\n",
        "\n",
        "Line #      Hits         Time  Per Hit   % Time  Line Contents\n",
        "==============================================================\n",
        "     1                                           def praw_reddit(nombre_subreddit = 'chile', n_hot = 1000):\n",
        "     2         1          2.0      2.0      0.0    reddit = praw.Reddit(client_id='-w2hyFINxZ8T3g',\n",
        "     3         1          2.0      2.0      0.0                       client_secret='zGPCI4s3g6Ic6AsRi7vIpP0NoxbFdw',\n",
        "     4         1          1.0      1.0      0.0                       password='ClasesMDS7202',\n",
        "     5         1          1.0      1.0      0.0                       user_agent='Clases',\n",
        "     6         1      46226.0  46226.0      0.3                       username='DocenciaDataScience', check_for_async=False)\n",
        "     7         1         31.0     31.0      0.0    subreddit  = reddit.subreddit(nombre_subreddit)\n",
        "     8                                           \n",
        "     9         1          1.0      1.0      0.0    votes, post, url = {}, {}, {}\n",
        "    10         1   17102255.0 17102255.0     99.2    top_submissions = list(subreddit.hot(limit = n_hot))\n",
        "    11        20         37.0      1.9      0.0    for it, top_n in enumerate(range(50, len(top_submissions),50)):\n",
        "    12        19        182.0      9.6      0.0      top_n_submissions = top_submissions[:top_n]\n",
        "    13        19        113.0      5.9      0.0      upvotes, downvotes, url[it], post[it] = [], [], [], []\n",
        "    14                                           \n",
        "    15      9519       8599.0      0.9      0.0      for submission in top_n_submissions:\n",
        "    16      9500       8521.0      0.9      0.0          try:\n",
        "    17      9500      12305.0      1.3      0.1              ratio = submission.upvote_ratio\n",
        "    18      9500      16087.0      1.7      0.1              ups = int(round((ratio*submission.score)/(2*ratio - 1)) if ratio != 0.5 else round(submission.score/2))\n",
        "    19      9500       9594.0      1.0      0.1              upvotes.append(ups)\n",
        "    20      9500       9822.0      1.0      0.1              downvotes.append(ups - submission.score)\n",
        "    21      9500      12523.0      1.3      0.1              post[it].append(submission.title)\n",
        "    22      9500      12195.0      1.3      0.1              url[it].append(submission.url)\n",
        "    23                                                   except Exception as e:\n",
        "    24                                                       continue\n",
        "    25        19       1582.0     83.3      0.0      votes[it] = np.array([upvotes, downvotes]).T\n",
        "    26         1          1.0      1.0      0.0    return votes, post, url"
      ]
    },
    {
      "cell_type": "markdown",
      "metadata": {
        "id": "8D2ENTZG4K8S"
      },
      "source": [
        "`Los procesos que toman más tiempo es la línea 10 en que llama a la API, lo cual está limitado a los tiempos de respuesta del servidos, y el cálculo de metricas y guardado de posts/urls. El código puede ser optimizado, sabiendo que en la línea 12 se ve que se está pasando más de una vez por cada post, lo cual incrementa los tiempos de ejecución.`"
      ]
    },
    {
      "cell_type": "markdown",
      "metadata": {
        "id": "tNDS2OpFnMnH"
      },
      "source": [
        "## 1.2 Análisis de Tiempo con Cache"
      ]
    },
    {
      "cell_type": "markdown",
      "metadata": {
        "id": "i3nsxCbAna4t"
      },
      "source": [
        "Sin duda, un factor clave en la mejora del tiempo de ejecución de una aplicación es el uso eficiente de la memoria. Por lo que es importante, que ustedes respondan las siguientes preguntas:\n",
        "1.\t¿Qué es la memoria cache y a que se refiere las siglas LRU?\n",
        "`La memoria cache es una memoria de baja capacidad y rápido acceso, en la que se guardan datos más frecuentemente utilizados. LRU se refiere a kis algoritmos de cache que sirven para optimizar la gestión de información de la memoria caché, cuando esta se llena, elige que elementos eliminar y cuáles agregar.`\n",
        "2.\t¿Cuáles son los costos que tiene la aplicación de técnicas de Caching?\n",
        "`Las técnicas de caching sirven para reducir los tiempos de ejecución, pero usando la memoria como costo.`\n",
        "3. ¿Cuál es la consecuencía de ocupar caching en la función anterior?.\n",
        "`Las consecuencias son de disminuir los tiempos de ejecución, aumentando el uso de memoria.`\n",
        "\n",
        "Respondidas las preguntas, se le solicita que aplique alguna técnica de caching para mejorar el desempeño de la función `praw_reddit`. Para esto compare solo el tiempo de ejecución del algoritmo con y sin caching, señalando el tiempo total de ejecución y el tiempo promedio que le toma ejecutar cada loop a la función. Con lo anterior, ¿es posible visualizar mejoras en este caso?.\n",
        "\n",
        "\n",
        "**TO-DO:**\n",
        "- [ ] Responder preguntas.\n",
        "- [ ] Mejorar el código con cache.\n"
      ]
    },
    {
      "cell_type": "markdown",
      "metadata": {
        "id": "fbQPpvYorOAF"
      },
      "source": [
        "**Respuestas Teóricas:**"
      ]
    },
    {
      "cell_type": "markdown",
      "metadata": {
        "id": "RKfLXDs_rO-w"
      },
      "source": [
        "`Es posible visualizar una gran mejora en los tiempos de ejecución, ahora en algunos casos corre casi 10 veces más rápido que el anterior.`"
      ]
    },
    {
      "cell_type": "code",
      "metadata": {
        "id": "X0u4WU11rLJd"
      },
      "source": [
        "#### Código para optimizar la función praw ####\n",
        "def praw_reddit(nombre_subreddit = 'chile', n_hot = 1000):\n",
        "  reddit = praw.Reddit(client_id='-w2hyFINxZ8T3g',\n",
        "                     client_secret='zGPCI4s3g6Ic6AsRi7vIpP0NoxbFdw',\n",
        "                     password='ClasesMDS7202',\n",
        "                     user_agent='Clases',\n",
        "                     username='DocenciaDataScience', check_for_async=False)\n",
        "  subreddit  = reddit.subreddit(nombre_subreddit)\n",
        "  cache_votes, cache_urls, cache_post = np.array([]).reshape(-1, 2), [], []\n",
        "\n",
        "  votes, post, url = {}, {}, {}\n",
        "  top_submissions = list(subreddit.hot(limit = n_hot))\n",
        "  for it, top_n in enumerate(range(50, len(top_submissions),50)):\n",
        "    top_n_submissions = top_submissions[top_n-50:top_n]\n",
        "    upvotes, downvotes, url[it], post[it] = [], [], [], []\n",
        "    post[it] += cache_post\n",
        "    url[it] += cache_urls\n",
        "\n",
        "    for submission in top_n_submissions:\n",
        "        try:\n",
        "            ratio = submission.upvote_ratio\n",
        "            ups = int(round((ratio*submission.score)/(2*ratio - 1)) if ratio != 0.5 else round(submission.score/2))\n",
        "            upvotes.append(ups)\n",
        "            downvotes.append(ups - submission.score)\n",
        "            post[it].append(submission.title)\n",
        "            url[it].append(submission.url)\n",
        "        except Exception as e:\n",
        "            continue\n",
        "    votes[it] = np.concatenate([cache_votes, np.array([upvotes, downvotes]).T], axis=0)\n",
        "    cache_votes, cache_urls, cache_post = votes[it], url[it], post[it]\n",
        "\n",
        "  return votes, post, url"
      ],
      "execution_count": 3,
      "outputs": []
    },
    {
      "cell_type": "code",
      "metadata": {
        "id": "o8ZTA5fB9WGB"
      },
      "source": [
        "#### Código Aquí ####\n",
        "%lprun -f praw_reddit praw_reddit()"
      ],
      "execution_count": null,
      "outputs": []
    },
    {
      "cell_type": "markdown",
      "metadata": {
        "id": "HCT5XKhS94RK"
      },
      "source": [
        "Timer unit: 1e-06 s\n",
        "\n",
        "Total time: 15.6968 s\n",
        "File: <ipython-input-37-8238e0bedfcf>\n",
        "Function: praw_reddit at line 2\n",
        "\n",
        "Line #      Hits         Time  Per Hit   % Time  Line Contents\n",
        "==============================================================\n",
        "     2                                           def praw_reddit(nombre_subreddit = 'chile', n_hot = 1000):\n",
        "     3         1          4.0      4.0      0.0    reddit = praw.Reddit(client_id='-w2hyFINxZ8T3g',\n",
        "     4         1          2.0      2.0      0.0                       client_secret='zGPCI4s3g6Ic6AsRi7vIpP0NoxbFdw',\n",
        "     5         1          1.0      1.0      0.0                       password='ClasesMDS7202',\n",
        "     6         1          2.0      2.0      0.0                       user_agent='Clases',\n",
        "     7         1        569.0    569.0      0.0                       username='DocenciaDataScience', check_for_async=False)\n",
        "     8         1         27.0     27.0      0.0    subreddit  = reddit.subreddit(nombre_subreddit)\n",
        "     9         1         17.0     17.0      0.0    cache_votes, cache_urls, cache_post = np.array([]).reshape(-1, 2), [], []\n",
        "    10                                           \n",
        "    11         1          1.0      1.0      0.0    votes, post, url = {}, {}, {}\n",
        "    12         1   15685469.0 15685469.0     99.9    top_submissions = list(subreddit.hot(limit = n_hot))\n",
        "    13        20         29.0      1.4      0.0    for it, top_n in enumerate(range(50, len(top_submissions),50)):\n",
        "    14        19         41.0      2.2      0.0      top_n_submissions = top_submissions[top_n-50:top_n]\n",
        "    15        19         39.0      2.1      0.0      upvotes, downvotes, url[it], post[it] = [], [], [], []\n",
        "    16        19         73.0      3.8      0.0      post[it] += cache_post\n",
        "    17        19         60.0      3.2      0.0      url[it] += cache_urls\n",
        "    18                                           \n",
        "    19       969        982.0      1.0      0.0      for submission in top_n_submissions:\n",
        "    20       950        900.0      0.9      0.0          try:\n",
        "    21       950       1479.0      1.6      0.0              ratio = submission.upvote_ratio\n",
        "    22       950       1761.0      1.9      0.0              ups = int(round((ratio*submission.score)/(2*ratio - 1)) if ratio != 0.5 else round(submission.score/2))\n",
        "    23       950       1057.0      1.1      0.0              upvotes.append(ups)\n",
        "    24       950       1109.0      1.2      0.0              downvotes.append(ups - submission.score)\n",
        "    25       950       1373.0      1.4      0.0              post[it].append(submission.title)\n",
        "    26       950       1328.0      1.4      0.0              url[it].append(submission.url)\n",
        "    27                                                   except Exception as e:\n",
        "    28                                                       continue\n",
        "    29        19        424.0     22.3      0.0      votes[it] = np.concatenate([cache_votes, np.array([upvotes, downvotes]).T], axis=0)\n",
        "    30        19         24.0      1.3      0.0      cache_votes, cache_urls, cache_post = votes[it], url[it], post[it]\n",
        "    31                                           \n",
        "    32         1          1.0      1.0      0.0    return votes, post, url"
      ]
    },
    {
      "cell_type": "markdown",
      "metadata": {
        "id": "2pS26u-trdg6"
      },
      "source": [
        "## 1.3 Obtención de Mean Posterior y Standard Error\n",
        "\n",
        "Una forma de obtener la mean posterior y el Standard Error de los datos de reddit es aplicando un atajo de inferencia Bayesiana. Este atajo se define de la siguiente forma:\n",
        "\n",
        "Sea **u** los votos positivos y **d** los votos negativos del subreddit, tendremos que:\n",
        "\n",
        "$$a = 1+u$$\n",
        "$$b = 1+d$$\n",
        "\n",
        "$$\\sigma= 1.65\\sqrt(\\dfrac{ab}{(a + b)^2(a + b + 1)})$$\n",
        "\n",
        "$$\\mu = \\dfrac{a}{a+b}$$\n",
        "\n",
        "Donde $\\mu$ es la mean posterior y $\\sigma$ el standard error.\n",
        "\n",
        "Con lo anterior, genere dos funciones que tengan como salida $\\mu$ y $\\sigma$ de acuerdo a las ecuaciones señaladas. La primera función, deberá ser construida sin el uso de numpy, aplicando for y aplicando comandos nativos de Python. Por otro lado, deberá generar una segunda función con el uso exclusivo de numpy. **OJO** que las funciones deben tener como entrada solo un elemento del diccionario votes (por ejemplo `votes[1]`), por lo que estas no deben tener como entrada el conjunto completo de datos."
      ]
    },
    {
      "cell_type": "code",
      "metadata": {
        "id": "ahzpJ-Sk0DOD"
      },
      "source": [
        "def intervalos(votos_positivos, votos_negativos):\n",
        "  mhus = []\n",
        "  sigmas = []\n",
        "  for i in range(votos_positivos.shape[0]):\n",
        "    a = votos_positivos[i] + 1\n",
        "    b = votos_negativos[i] + 1\n",
        "    mhu = a / (a + b)\n",
        "    den = (a + b)**2 * (a + b + 1)\n",
        "    num = (a * b)\n",
        "    sigma = 1.65 * (num/den)**0.5\n",
        "    mhus.append(mhu)\n",
        "    sigmas.append(sigma)\n",
        "  return mhus, sigmas\n",
        "\n",
        "def intervalos_numpy(votos_positivos, votos_negativos):\n",
        "  a = votos_positivos + 1\n",
        "  b = votos_negativos + 1\n",
        "  mhu = a / (a + b)\n",
        "  den = np.power(a + b, 2) * (a + b + 1)\n",
        "  num = (a * b)\n",
        "  sigma = 1.65*np.sqrt(num/den)\n",
        "  return mhu, sigma\n"
      ],
      "execution_count": 10,
      "outputs": []
    },
    {
      "cell_type": "markdown",
      "metadata": {
        "id": "VhHhiTRYwpGu"
      },
      "source": [
        "## 1.4 Comparación de rendimiento\n",
        "\n",
        "Creadas las funciones de la sección 1.3, de forma iterativa compare los diferentes batches de datos que contiene el diccionario `votes`. Para esto genere un gráfico utilizando plotly, donde se pueda observar las diferencias de tiempo que toma ejecutar las diferentes cantidades de datos. ¿es posible observar una diferencia? ¿a qué se deberá esto?.\n",
        "\n",
        "Aplique el compilador **Numba** sobre las funciones 1.3 y compare el tiempo de ejecución con los obtenidos sin el compilador. Grafique estos tiempos y observe comente los desempeños."
      ]
    },
    {
      "cell_type": "code",
      "metadata": {
        "id": "b02IokToxPpO"
      },
      "source": [
        "###### Código Aquí ######\n",
        "\n",
        "@jit(nopython=True)\n",
        "def intervalos_JIT(votos_positivos, votos_negativos):\n",
        "  mhus = []\n",
        "  sigmas = []\n",
        "  for i in range(votos_positivos.shape[0]):\n",
        "    a = votos_positivos[i] + 1\n",
        "    b = votos_negativos[i] + 1\n",
        "    mhu = a / (a + b)\n",
        "    den = (a + b)**2 * (a + b + 1)\n",
        "    num = (a * b)\n",
        "    sigma = 1.65 * (num/den)**0.5\n",
        "    mhus.append(mhu)\n",
        "    sigmas.append(sigma)\n",
        "  return mhus, sigmas\n",
        "\n",
        "@jit(nopython=True)\n",
        "def intervalos_numpy_JIT(votos_positivos, votos_negativos):\n",
        "  a = votos_positivos + 1\n",
        "  b = votos_negativos + 1\n",
        "  mhu = a / (a + b)\n",
        "  den = np.power(a + b, 2) * (a + b + 1)\n",
        "  num = (a * b)\n",
        "  sigma = 1.65*np.sqrt(num/den)\n",
        "  return mhu, sigma\n"
      ],
      "execution_count": 13,
      "outputs": []
    },
    {
      "cell_type": "code",
      "metadata": {
        "id": "rYQ2B1NpDfGl"
      },
      "source": [
        "votes, post, url = praw_reddit()"
      ],
      "execution_count": 14,
      "outputs": []
    },
    {
      "cell_type": "code",
      "metadata": {
        "id": "tNPSilpTz1yJ"
      },
      "source": [
        "\n",
        "db = []\n",
        "\n",
        "for key_votos, votos in votes.items():\n",
        "  tic = time.process_time()\n",
        "  _, _ = intervalos(votos[:, 0], votos[:, 1])\n",
        "  db.append([\n",
        "             'Python puro', \n",
        "             time.process_time() - tic,\n",
        "             key_votos\n",
        "             ])\n",
        "\n",
        "  tic = time.process_time()\n",
        "  _, _ = intervalos_numpy(votos[:, 0], votos[:, 1])\n",
        "  db.append([\n",
        "             'Numpy', \n",
        "             time.process_time() - tic,\n",
        "             key_votos\n",
        "             ])\n",
        "\n",
        "  tic = time.process_time()\n",
        "  _, _ = intervalos_JIT(votos[:, 0], votos[:, 1])\n",
        "  db.append([\n",
        "             'Numba', \n",
        "             time.process_time() - tic,\n",
        "             key_votos\n",
        "             ])\n",
        "\n",
        "  tic = time.process_time()\n",
        "  _, _ = intervalos_numpy_JIT(votos[:, 0], votos[:, 1])\n",
        "  db.append([\n",
        "             'Numba-Numpy', \n",
        "             time.process_time() - tic,\n",
        "             key_votos\n",
        "             ])"
      ],
      "execution_count": 19,
      "outputs": []
    },
    {
      "cell_type": "code",
      "metadata": {
        "colab": {
          "base_uri": "https://localhost:8080/",
          "height": 542
        },
        "id": "OIBI4vVR1_FB",
        "outputId": "1201fa61-af9b-4d7a-b867-b7f836cd6203"
      },
      "source": [
        "df = pd.DataFrame(data=db, columns=[\"tipo\", \"valor\", \"llave\"])\n",
        "fig = px.line(df, x=\"llave\", y=\"valor\", title='Tiempos de ejecución', color=\"tipo\")\n",
        "fig.show()"
      ],
      "execution_count": 20,
      "outputs": [
        {
          "output_type": "display_data",
          "data": {
            "text/html": [
              "<html>\n",
              "<head><meta charset=\"utf-8\" /></head>\n",
              "<body>\n",
              "    <div>\n",
              "            <script src=\"https://cdnjs.cloudflare.com/ajax/libs/mathjax/2.7.5/MathJax.js?config=TeX-AMS-MML_SVG\"></script><script type=\"text/javascript\">if (window.MathJax) {MathJax.Hub.Config({SVG: {font: \"STIX-Web\"}});}</script>\n",
              "                <script type=\"text/javascript\">window.PlotlyConfig = {MathJaxConfig: 'local'};</script>\n",
              "        <script src=\"https://cdn.plot.ly/plotly-latest.min.js\"></script>    \n",
              "            <div id=\"12ff7ee8-1259-47c5-9a89-3178f1b9edac\" class=\"plotly-graph-div\" style=\"height:525px; width:100%;\"></div>\n",
              "            <script type=\"text/javascript\">\n",
              "                \n",
              "                    window.PLOTLYENV=window.PLOTLYENV || {};\n",
              "                    \n",
              "                if (document.getElementById(\"12ff7ee8-1259-47c5-9a89-3178f1b9edac\")) {\n",
              "                    Plotly.newPlot(\n",
              "                        '12ff7ee8-1259-47c5-9a89-3178f1b9edac',\n",
              "                        [{\"hoverlabel\": {\"namelength\": 0}, \"hovertemplate\": \"tipo=Python puro<br>llave=%{x}<br>valor=%{y}\", \"legendgroup\": \"tipo=Python puro\", \"line\": {\"color\": \"#636efa\", \"dash\": \"solid\"}, \"mode\": \"lines\", \"name\": \"tipo=Python puro\", \"showlegend\": true, \"type\": \"scatter\", \"x\": [0, 1, 2, 3, 4, 5, 6, 7, 8, 9, 10, 11, 12, 13, 14, 15, 16, 17, 18], \"xaxis\": \"x\", \"y\": [0.0003405460000003302, 0.00043554199999995546, 0.0005261609999998029, 0.0007116109999998343, 0.0010767170000001158, 0.001163980999999481, 0.0012218149999991823, 0.0013642830000009099, 0.0015889510000004492, 0.00169594499999981, 0.0018937090000008538, 0.002062758000000997, 0.002429031000000137, 0.0024610499999990765, 0.0025406060000001673, 0.002719771000000648, 0.002895126000000303, 0.0030280149999999395, 0.0034042000000003014], \"yaxis\": \"y\"}, {\"hoverlabel\": {\"namelength\": 0}, \"hovertemplate\": \"tipo=Numpy<br>llave=%{x}<br>valor=%{y}\", \"legendgroup\": \"tipo=Numpy\", \"line\": {\"color\": \"#EF553B\", \"dash\": \"solid\"}, \"mode\": \"lines\", \"name\": \"tipo=Numpy\", \"showlegend\": true, \"type\": \"scatter\", \"x\": [0, 1, 2, 3, 4, 5, 6, 7, 8, 9, 10, 11, 12, 13, 14, 15, 16, 17, 18], \"xaxis\": \"x\", \"y\": [8.334600000026171e-05, 4.296100000011904e-05, 4.098900000037986e-05, 7.092500000105417e-05, 6.228999999891016e-05, 8.487100000031944e-05, 6.643000000039478e-05, 7.345300000061172e-05, 8.050900000000638e-05, 7.579099999865946e-05, 9.861399999877563e-05, 9.902000000039379e-05, 0.00013414399999867044, 0.00011845099999874265, 0.00013968300000044565, 0.00013062500000060595, 0.00013660900000012077, 0.0001356260000004994, 0.00017352600000108964], \"yaxis\": \"y\"}, {\"hoverlabel\": {\"namelength\": 0}, \"hovertemplate\": \"tipo=Numba<br>llave=%{x}<br>valor=%{y}\", \"legendgroup\": \"tipo=Numba\", \"line\": {\"color\": \"#00cc96\", \"dash\": \"solid\"}, \"mode\": \"lines\", \"name\": \"tipo=Numba\", \"showlegend\": true, \"type\": \"scatter\", \"x\": [0, 1, 2, 3, 4, 5, 6, 7, 8, 9, 10, 11, 12, 13, 14, 15, 16, 17, 18], \"xaxis\": \"x\", \"y\": [2.7483000000216862e-05, 1.7143000000885422e-05, 2.0334000000232777e-05, 3.4530999998949596e-05, 3.1541000000245845e-05, 3.312700000002167e-05, 4.2771000000385584e-05, 7.309699999957786e-05, 4.536800000032315e-05, 7.138099999970393e-05, 5.3774000001283184e-05, 5.8511999998955844e-05, 7.457700000124134e-05, 7.086899999997343e-05, 7.835299999925383e-05, 8.48599999994093e-05, 8.806399999983228e-05, 9.554100000030985e-05, 9.465599999991525e-05], \"yaxis\": \"y\"}, {\"hoverlabel\": {\"namelength\": 0}, \"hovertemplate\": \"tipo=Numba-Numpy<br>llave=%{x}<br>valor=%{y}\", \"legendgroup\": \"tipo=Numba-Numpy\", \"line\": {\"color\": \"#ab63fa\", \"dash\": \"solid\"}, \"mode\": \"lines\", \"name\": \"tipo=Numba-Numpy\", \"showlegend\": true, \"type\": \"scatter\", \"x\": [0, 1, 2, 3, 4, 5, 6, 7, 8, 9, 10, 11, 12, 13, 14, 15, 16, 17, 18], \"xaxis\": \"x\", \"y\": [1.510699999940357e-05, 1.0382999999336562e-05, 1.078900000095473e-05, 1.4271999999593277e-05, 1.7702999999258395e-05, 1.1854000000255382e-05, 1.2420000000901155e-05, 1.489699999979166e-05, 1.4129999998502285e-05, 1.734499999983541e-05, 1.5780000000020777e-05, 2.702300000123614e-05, 2.205500000052041e-05, 2.017100000095695e-05, 2.214999999949896e-05, 2.2797999999824015e-05, 2.3223999999544276e-05, 2.4540000000072837e-05, 2.7170000000964478e-05], \"yaxis\": \"y\"}],\n",
              "                        {\"legend\": {\"tracegroupgap\": 0}, \"template\": {\"data\": {\"bar\": [{\"error_x\": {\"color\": \"#2a3f5f\"}, \"error_y\": {\"color\": \"#2a3f5f\"}, \"marker\": {\"line\": {\"color\": \"#E5ECF6\", \"width\": 0.5}}, \"type\": \"bar\"}], \"barpolar\": [{\"marker\": {\"line\": {\"color\": \"#E5ECF6\", \"width\": 0.5}}, \"type\": \"barpolar\"}], \"carpet\": [{\"aaxis\": {\"endlinecolor\": \"#2a3f5f\", \"gridcolor\": \"white\", \"linecolor\": \"white\", \"minorgridcolor\": \"white\", \"startlinecolor\": \"#2a3f5f\"}, \"baxis\": {\"endlinecolor\": \"#2a3f5f\", \"gridcolor\": \"white\", \"linecolor\": \"white\", \"minorgridcolor\": \"white\", \"startlinecolor\": \"#2a3f5f\"}, \"type\": \"carpet\"}], \"choropleth\": [{\"colorbar\": {\"outlinewidth\": 0, \"ticks\": \"\"}, \"type\": \"choropleth\"}], \"contour\": [{\"colorbar\": {\"outlinewidth\": 0, \"ticks\": \"\"}, \"colorscale\": [[0.0, \"#0d0887\"], [0.1111111111111111, \"#46039f\"], [0.2222222222222222, \"#7201a8\"], [0.3333333333333333, \"#9c179e\"], [0.4444444444444444, \"#bd3786\"], [0.5555555555555556, \"#d8576b\"], [0.6666666666666666, \"#ed7953\"], [0.7777777777777778, \"#fb9f3a\"], [0.8888888888888888, \"#fdca26\"], [1.0, \"#f0f921\"]], \"type\": \"contour\"}], \"contourcarpet\": [{\"colorbar\": {\"outlinewidth\": 0, \"ticks\": \"\"}, \"type\": \"contourcarpet\"}], \"heatmap\": [{\"colorbar\": {\"outlinewidth\": 0, \"ticks\": \"\"}, \"colorscale\": [[0.0, \"#0d0887\"], [0.1111111111111111, \"#46039f\"], [0.2222222222222222, \"#7201a8\"], [0.3333333333333333, \"#9c179e\"], [0.4444444444444444, \"#bd3786\"], [0.5555555555555556, \"#d8576b\"], [0.6666666666666666, \"#ed7953\"], [0.7777777777777778, \"#fb9f3a\"], [0.8888888888888888, \"#fdca26\"], [1.0, \"#f0f921\"]], \"type\": \"heatmap\"}], \"heatmapgl\": [{\"colorbar\": {\"outlinewidth\": 0, \"ticks\": \"\"}, \"colorscale\": [[0.0, \"#0d0887\"], [0.1111111111111111, \"#46039f\"], [0.2222222222222222, \"#7201a8\"], [0.3333333333333333, \"#9c179e\"], [0.4444444444444444, \"#bd3786\"], [0.5555555555555556, \"#d8576b\"], [0.6666666666666666, \"#ed7953\"], [0.7777777777777778, \"#fb9f3a\"], [0.8888888888888888, \"#fdca26\"], [1.0, \"#f0f921\"]], \"type\": \"heatmapgl\"}], \"histogram\": [{\"marker\": {\"colorbar\": {\"outlinewidth\": 0, \"ticks\": \"\"}}, \"type\": \"histogram\"}], \"histogram2d\": [{\"colorbar\": {\"outlinewidth\": 0, \"ticks\": \"\"}, \"colorscale\": [[0.0, \"#0d0887\"], [0.1111111111111111, \"#46039f\"], [0.2222222222222222, \"#7201a8\"], [0.3333333333333333, \"#9c179e\"], [0.4444444444444444, \"#bd3786\"], [0.5555555555555556, \"#d8576b\"], [0.6666666666666666, \"#ed7953\"], [0.7777777777777778, \"#fb9f3a\"], [0.8888888888888888, \"#fdca26\"], [1.0, \"#f0f921\"]], \"type\": \"histogram2d\"}], \"histogram2dcontour\": [{\"colorbar\": {\"outlinewidth\": 0, \"ticks\": \"\"}, \"colorscale\": [[0.0, \"#0d0887\"], [0.1111111111111111, \"#46039f\"], [0.2222222222222222, \"#7201a8\"], [0.3333333333333333, \"#9c179e\"], [0.4444444444444444, \"#bd3786\"], [0.5555555555555556, \"#d8576b\"], [0.6666666666666666, \"#ed7953\"], [0.7777777777777778, \"#fb9f3a\"], [0.8888888888888888, \"#fdca26\"], [1.0, \"#f0f921\"]], \"type\": \"histogram2dcontour\"}], \"mesh3d\": [{\"colorbar\": {\"outlinewidth\": 0, \"ticks\": \"\"}, \"type\": \"mesh3d\"}], \"parcoords\": [{\"line\": {\"colorbar\": {\"outlinewidth\": 0, \"ticks\": \"\"}}, \"type\": \"parcoords\"}], \"pie\": [{\"automargin\": true, \"type\": \"pie\"}], \"scatter\": [{\"marker\": {\"colorbar\": {\"outlinewidth\": 0, \"ticks\": \"\"}}, \"type\": \"scatter\"}], \"scatter3d\": [{\"line\": {\"colorbar\": {\"outlinewidth\": 0, \"ticks\": \"\"}}, \"marker\": {\"colorbar\": {\"outlinewidth\": 0, \"ticks\": \"\"}}, \"type\": \"scatter3d\"}], \"scattercarpet\": [{\"marker\": {\"colorbar\": {\"outlinewidth\": 0, \"ticks\": \"\"}}, \"type\": \"scattercarpet\"}], \"scattergeo\": [{\"marker\": {\"colorbar\": {\"outlinewidth\": 0, \"ticks\": \"\"}}, \"type\": \"scattergeo\"}], \"scattergl\": [{\"marker\": {\"colorbar\": {\"outlinewidth\": 0, \"ticks\": \"\"}}, \"type\": \"scattergl\"}], \"scattermapbox\": [{\"marker\": {\"colorbar\": {\"outlinewidth\": 0, \"ticks\": \"\"}}, \"type\": \"scattermapbox\"}], \"scatterpolar\": [{\"marker\": {\"colorbar\": {\"outlinewidth\": 0, \"ticks\": \"\"}}, \"type\": \"scatterpolar\"}], \"scatterpolargl\": [{\"marker\": {\"colorbar\": {\"outlinewidth\": 0, \"ticks\": \"\"}}, \"type\": \"scatterpolargl\"}], \"scatterternary\": [{\"marker\": {\"colorbar\": {\"outlinewidth\": 0, \"ticks\": \"\"}}, \"type\": \"scatterternary\"}], \"surface\": [{\"colorbar\": {\"outlinewidth\": 0, \"ticks\": \"\"}, \"colorscale\": [[0.0, \"#0d0887\"], [0.1111111111111111, \"#46039f\"], [0.2222222222222222, \"#7201a8\"], [0.3333333333333333, \"#9c179e\"], [0.4444444444444444, \"#bd3786\"], [0.5555555555555556, \"#d8576b\"], [0.6666666666666666, \"#ed7953\"], [0.7777777777777778, \"#fb9f3a\"], [0.8888888888888888, \"#fdca26\"], [1.0, \"#f0f921\"]], \"type\": \"surface\"}], \"table\": [{\"cells\": {\"fill\": {\"color\": \"#EBF0F8\"}, \"line\": {\"color\": \"white\"}}, \"header\": {\"fill\": {\"color\": \"#C8D4E3\"}, \"line\": {\"color\": \"white\"}}, \"type\": \"table\"}]}, \"layout\": {\"annotationdefaults\": {\"arrowcolor\": \"#2a3f5f\", \"arrowhead\": 0, \"arrowwidth\": 1}, \"coloraxis\": {\"colorbar\": {\"outlinewidth\": 0, \"ticks\": \"\"}}, \"colorscale\": {\"diverging\": [[0, \"#8e0152\"], [0.1, \"#c51b7d\"], [0.2, \"#de77ae\"], [0.3, \"#f1b6da\"], [0.4, \"#fde0ef\"], [0.5, \"#f7f7f7\"], [0.6, \"#e6f5d0\"], [0.7, \"#b8e186\"], [0.8, \"#7fbc41\"], [0.9, \"#4d9221\"], [1, \"#276419\"]], \"sequential\": [[0.0, \"#0d0887\"], [0.1111111111111111, \"#46039f\"], [0.2222222222222222, \"#7201a8\"], [0.3333333333333333, \"#9c179e\"], [0.4444444444444444, \"#bd3786\"], [0.5555555555555556, \"#d8576b\"], [0.6666666666666666, \"#ed7953\"], [0.7777777777777778, \"#fb9f3a\"], [0.8888888888888888, \"#fdca26\"], [1.0, \"#f0f921\"]], \"sequentialminus\": [[0.0, \"#0d0887\"], [0.1111111111111111, \"#46039f\"], [0.2222222222222222, \"#7201a8\"], [0.3333333333333333, \"#9c179e\"], [0.4444444444444444, \"#bd3786\"], [0.5555555555555556, \"#d8576b\"], [0.6666666666666666, \"#ed7953\"], [0.7777777777777778, \"#fb9f3a\"], [0.8888888888888888, \"#fdca26\"], [1.0, \"#f0f921\"]]}, \"colorway\": [\"#636efa\", \"#EF553B\", \"#00cc96\", \"#ab63fa\", \"#FFA15A\", \"#19d3f3\", \"#FF6692\", \"#B6E880\", \"#FF97FF\", \"#FECB52\"], \"font\": {\"color\": \"#2a3f5f\"}, \"geo\": {\"bgcolor\": \"white\", \"lakecolor\": \"white\", \"landcolor\": \"#E5ECF6\", \"showlakes\": true, \"showland\": true, \"subunitcolor\": \"white\"}, \"hoverlabel\": {\"align\": \"left\"}, \"hovermode\": \"closest\", \"mapbox\": {\"style\": \"light\"}, \"paper_bgcolor\": \"white\", \"plot_bgcolor\": \"#E5ECF6\", \"polar\": {\"angularaxis\": {\"gridcolor\": \"white\", \"linecolor\": \"white\", \"ticks\": \"\"}, \"bgcolor\": \"#E5ECF6\", \"radialaxis\": {\"gridcolor\": \"white\", \"linecolor\": \"white\", \"ticks\": \"\"}}, \"scene\": {\"xaxis\": {\"backgroundcolor\": \"#E5ECF6\", \"gridcolor\": \"white\", \"gridwidth\": 2, \"linecolor\": \"white\", \"showbackground\": true, \"ticks\": \"\", \"zerolinecolor\": \"white\"}, \"yaxis\": {\"backgroundcolor\": \"#E5ECF6\", \"gridcolor\": \"white\", \"gridwidth\": 2, \"linecolor\": \"white\", \"showbackground\": true, \"ticks\": \"\", \"zerolinecolor\": \"white\"}, \"zaxis\": {\"backgroundcolor\": \"#E5ECF6\", \"gridcolor\": \"white\", \"gridwidth\": 2, \"linecolor\": \"white\", \"showbackground\": true, \"ticks\": \"\", \"zerolinecolor\": \"white\"}}, \"shapedefaults\": {\"line\": {\"color\": \"#2a3f5f\"}}, \"ternary\": {\"aaxis\": {\"gridcolor\": \"white\", \"linecolor\": \"white\", \"ticks\": \"\"}, \"baxis\": {\"gridcolor\": \"white\", \"linecolor\": \"white\", \"ticks\": \"\"}, \"bgcolor\": \"#E5ECF6\", \"caxis\": {\"gridcolor\": \"white\", \"linecolor\": \"white\", \"ticks\": \"\"}}, \"title\": {\"x\": 0.05}, \"xaxis\": {\"automargin\": true, \"gridcolor\": \"white\", \"linecolor\": \"white\", \"ticks\": \"\", \"title\": {\"standoff\": 15}, \"zerolinecolor\": \"white\", \"zerolinewidth\": 2}, \"yaxis\": {\"automargin\": true, \"gridcolor\": \"white\", \"linecolor\": \"white\", \"ticks\": \"\", \"title\": {\"standoff\": 15}, \"zerolinecolor\": \"white\", \"zerolinewidth\": 2}}}, \"title\": {\"text\": \"Tiempos de ejecuci\\u00f3n\"}, \"xaxis\": {\"anchor\": \"y\", \"domain\": [0.0, 1.0], \"title\": {\"text\": \"llave\"}}, \"yaxis\": {\"anchor\": \"x\", \"domain\": [0.0, 1.0], \"title\": {\"text\": \"valor\"}}},\n",
              "                        {\"responsive\": true}\n",
              "                    ).then(function(){\n",
              "                            \n",
              "var gd = document.getElementById('12ff7ee8-1259-47c5-9a89-3178f1b9edac');\n",
              "var x = new MutationObserver(function (mutations, observer) {{\n",
              "        var display = window.getComputedStyle(gd).display;\n",
              "        if (!display || display === 'none') {{\n",
              "            console.log([gd, 'removed!']);\n",
              "            Plotly.purge(gd);\n",
              "            observer.disconnect();\n",
              "        }}\n",
              "}});\n",
              "\n",
              "// Listen for the removal of the full notebook cells\n",
              "var notebookContainer = gd.closest('#notebook-container');\n",
              "if (notebookContainer) {{\n",
              "    x.observe(notebookContainer, {childList: true});\n",
              "}}\n",
              "\n",
              "// Listen for the clearing of the current output cell\n",
              "var outputEl = gd.closest('.output');\n",
              "if (outputEl) {{\n",
              "    x.observe(outputEl, {childList: true});\n",
              "}}\n",
              "\n",
              "                        })\n",
              "                };\n",
              "                \n",
              "            </script>\n",
              "        </div>\n",
              "</body>\n",
              "</html>"
            ]
          },
          "metadata": {
            "tags": []
          }
        }
      ]
    },
    {
      "cell_type": "markdown",
      "metadata": {
        "id": "Zn0jmTJN49Ur"
      },
      "source": [
        "`En el gráfico se puede ver que hay una clara diferencia entre las curvas o tiempos de ejecución para cada uno de los métodos, donde el más ineficiente es python sin librerías, Numpy, Numba y Numpy-Numba tienen tiempos similares, pero este último tiene mayor eficiencia. Esto se debe a que python utiliza sólo 1 núcleo de CPU, mientras que numpy usa más de uno de forma eficiente y numba utiliza la GPU, la cual tiene más núcleos que la CPU, y, por tanto, mayor paralelismo.`"
      ]
    },
    {
      "cell_type": "markdown",
      "metadata": {
        "id": "DljdJw8m0gYC"
      },
      "source": [
        "## 1.5 Plot de Resultados Bayesianos"
      ]
    },
    {
      "cell_type": "markdown",
      "metadata": {
        "id": "cQAxOM5D08Hl"
      },
      "source": [
        "Llego la hora de visualizar los resultados obtenidos, para esto solo ejecute las siguientes celdas y observe lo que sucede :3. ¿Qué logra observar de los resultados?, ¿La solución resulta trivial?\n",
        "\n",
        "En esta sección esperamos que solo comenten con lo que logran visualizar de los dataframes."
      ]
    },
    {
      "cell_type": "code",
      "metadata": {
        "colab": {
          "base_uri": "https://localhost:8080/",
          "height": 737
        },
        "id": "N5E2mNYXaafI",
        "outputId": "4f10c179-1c61-4df6-8e3b-0a4e51091e05"
      },
      "source": [
        "votos = votes[len(votes)-1]\n",
        "posteo = post[len(post)-1]\n",
        "print(\"lower bounds aproximados:\")\n",
        "posterior_mean, std_err = intervalos_numpy(votos[:, 0], votos[:, 1])\n",
        "lb = posterior_mean - std_err\n",
        "print(\"\\nTop 20 post ordenador por el limite inferior:\\n\")\n",
        "order = np.argsort(-lb)\n",
        "vote_post = {'Votos (+)':votos[order[:20], 0], 'Votos (-)':votos[order[:20], 1] ,'Post':np.array(posteo)[order[:20]], 'url': np.array(url[len(url)-1])[order[:20]]}\n",
        "df = pd.DataFrame(data=vote_post)\n",
        "ordered_post = df.Post\n",
        "df"
      ],
      "execution_count": 11,
      "outputs": [
        {
          "output_type": "stream",
          "text": [
            "lower bounds aproximados:\n",
            "\n",
            "Top 20 post ordenador por el limite inferior:\n",
            "\n"
          ],
          "name": "stdout"
        },
        {
          "output_type": "execute_result",
          "data": {
            "text/html": [
              "<div>\n",
              "<style scoped>\n",
              "    .dataframe tbody tr th:only-of-type {\n",
              "        vertical-align: middle;\n",
              "    }\n",
              "\n",
              "    .dataframe tbody tr th {\n",
              "        vertical-align: top;\n",
              "    }\n",
              "\n",
              "    .dataframe thead th {\n",
              "        text-align: right;\n",
              "    }\n",
              "</style>\n",
              "<table border=\"1\" class=\"dataframe\">\n",
              "  <thead>\n",
              "    <tr style=\"text-align: right;\">\n",
              "      <th></th>\n",
              "      <th>Votos (+)</th>\n",
              "      <th>Votos (-)</th>\n",
              "      <th>Post</th>\n",
              "      <th>url</th>\n",
              "    </tr>\n",
              "  </thead>\n",
              "  <tbody>\n",
              "    <tr>\n",
              "      <th>0</th>\n",
              "      <td>934.0</td>\n",
              "      <td>0.0</td>\n",
              "      <td>Gato andino extremadmente raro mirando una cám...</td>\n",
              "      <td>https://v.redd.it/k2r2bhlh0h971</td>\n",
              "    </tr>\n",
              "    <tr>\n",
              "      <th>1</th>\n",
              "      <td>720.0</td>\n",
              "      <td>0.0</td>\n",
              "      <td>Debate presidencial 2005, pregunta clave de Ma...</td>\n",
              "      <td>https://v.redd.it/xj4g8rc5sw671</td>\n",
              "    </tr>\n",
              "    <tr>\n",
              "      <th>2</th>\n",
              "      <td>522.0</td>\n",
              "      <td>0.0</td>\n",
              "      <td>¿Qué hacer con Talca? Bueno...</td>\n",
              "      <td>https://i.redd.it/1tk589eq89771.png</td>\n",
              "    </tr>\n",
              "    <tr>\n",
              "      <th>3</th>\n",
              "      <td>453.0</td>\n",
              "      <td>0.0</td>\n",
              "      <td>El bombardero de Lo Prado: \"Se lo mando seco e...</td>\n",
              "      <td>https://v.redd.it/l6c86bhd2w571</td>\n",
              "    </tr>\n",
              "    <tr>\n",
              "      <th>4</th>\n",
              "      <td>446.0</td>\n",
              "      <td>0.0</td>\n",
              "      <td>Aysén hoy 2, no se subieron todas juntas (Bonu...</td>\n",
              "      <td>https://www.reddit.com/gallery/o6f7lr</td>\n",
              "    </tr>\n",
              "    <tr>\n",
              "      <th>5</th>\n",
              "      <td>406.0</td>\n",
              "      <td>0.0</td>\n",
              "      <td>Juan Carlos Bodoque, This Charming Man (Video ...</td>\n",
              "      <td>https://v.redd.it/wf0yqt92tv771</td>\n",
              "    </tr>\n",
              "    <tr>\n",
              "      <th>6</th>\n",
              "      <td>354.0</td>\n",
              "      <td>0.0</td>\n",
              "      <td>Fotografía de un vendedor ambulante en la Plaz...</td>\n",
              "      <td>https://www.reddit.com/gallery/oc0qzt</td>\n",
              "    </tr>\n",
              "    <tr>\n",
              "      <th>7</th>\n",
              "      <td>348.0</td>\n",
              "      <td>0.0</td>\n",
              "      <td>Avión Pingüino Rey de Aerovías DAP que vuela e...</td>\n",
              "      <td>https://i.redd.it/f82si2h743771.jpg</td>\n",
              "    </tr>\n",
              "    <tr>\n",
              "      <th>8</th>\n",
              "      <td>270.0</td>\n",
              "      <td>0.0</td>\n",
              "      <td>Cuando el chico Paris y Siches eran compañeros...</td>\n",
              "      <td>https://v.redd.it/nkfiwmwgma571</td>\n",
              "    </tr>\n",
              "    <tr>\n",
              "      <th>9</th>\n",
              "      <td>250.0</td>\n",
              "      <td>0.0</td>\n",
              "      <td>Con 99% de aprobación: Bomberos es la instituc...</td>\n",
              "      <td>https://www.24horas.cl/nacional/bomberos-aprob...</td>\n",
              "    </tr>\n",
              "    <tr>\n",
              "      <th>10</th>\n",
              "      <td>241.0</td>\n",
              "      <td>0.0</td>\n",
              "      <td>el arriero Don Jose catalán junto a dos sobrev...</td>\n",
              "      <td>https://i.redd.it/q2oftzqyvo671.jpg</td>\n",
              "    </tr>\n",
              "    <tr>\n",
              "      <th>11</th>\n",
              "      <td>214.0</td>\n",
              "      <td>0.0</td>\n",
              "      <td>#AlertaT13 | Gobierno reconoce que padre de be...</td>\n",
              "      <td>https://twitter.com/T13/status/141246215675128...</td>\n",
              "    </tr>\n",
              "    <tr>\n",
              "      <th>12</th>\n",
              "      <td>1529.0</td>\n",
              "      <td>15.0</td>\n",
              "      <td>Soporte VTR</td>\n",
              "      <td>https://i.redd.it/l9e0jclp2r471.jpg</td>\n",
              "    </tr>\n",
              "    <tr>\n",
              "      <th>13</th>\n",
              "      <td>1404.0</td>\n",
              "      <td>14.0</td>\n",
              "      <td>los candidatos según twitter</td>\n",
              "      <td>https://i.redd.it/lyuu8s9v11571.jpg</td>\n",
              "    </tr>\n",
              "    <tr>\n",
              "      <th>14</th>\n",
              "      <td>165.0</td>\n",
              "      <td>0.0</td>\n",
              "      <td>primera bomba de bencina, puente alto año 1936</td>\n",
              "      <td>https://i.redd.it/x1dvjg4wgj871.jpg</td>\n",
              "    </tr>\n",
              "    <tr>\n",
              "      <th>15</th>\n",
              "      <td>939.0</td>\n",
              "      <td>9.0</td>\n",
              "      <td>POV: Entraste a la bodega de la Municipalidad ...</td>\n",
              "      <td>https://v.redd.it/znweln68xv971</td>\n",
              "    </tr>\n",
              "    <tr>\n",
              "      <th>16</th>\n",
              "      <td>917.0</td>\n",
              "      <td>9.0</td>\n",
              "      <td>Piñera es inútil</td>\n",
              "      <td>https://i.redd.it/8wo4lqzv51671.jpg</td>\n",
              "    </tr>\n",
              "    <tr>\n",
              "      <th>17</th>\n",
              "      <td>159.0</td>\n",
              "      <td>0.0</td>\n",
              "      <td>[Video] \"Una pena\": Concejal se encontró con \"...</td>\n",
              "      <td>https://www.cooperativa.cl/noticias/pais/polit...</td>\n",
              "    </tr>\n",
              "    <tr>\n",
              "      <th>18</th>\n",
              "      <td>989.0</td>\n",
              "      <td>10.0</td>\n",
              "      <td>Odio Talca</td>\n",
              "      <td>https://i.redd.it/5n5cy3f079771.jpg</td>\n",
              "    </tr>\n",
              "    <tr>\n",
              "      <th>19</th>\n",
              "      <td>911.0</td>\n",
              "      <td>9.0</td>\n",
              "      <td>El delivery de reineta en Concón</td>\n",
              "      <td>https://i.redd.it/cganma3a5o571.jpg</td>\n",
              "    </tr>\n",
              "  </tbody>\n",
              "</table>\n",
              "</div>"
            ],
            "text/plain": [
              "    Votos (+)  ...                                                url\n",
              "0       934.0  ...                    https://v.redd.it/k2r2bhlh0h971\n",
              "1       720.0  ...                    https://v.redd.it/xj4g8rc5sw671\n",
              "2       522.0  ...                https://i.redd.it/1tk589eq89771.png\n",
              "3       453.0  ...                    https://v.redd.it/l6c86bhd2w571\n",
              "4       446.0  ...              https://www.reddit.com/gallery/o6f7lr\n",
              "5       406.0  ...                    https://v.redd.it/wf0yqt92tv771\n",
              "6       354.0  ...              https://www.reddit.com/gallery/oc0qzt\n",
              "7       348.0  ...                https://i.redd.it/f82si2h743771.jpg\n",
              "8       270.0  ...                    https://v.redd.it/nkfiwmwgma571\n",
              "9       250.0  ...  https://www.24horas.cl/nacional/bomberos-aprob...\n",
              "10      241.0  ...                https://i.redd.it/q2oftzqyvo671.jpg\n",
              "11      214.0  ...  https://twitter.com/T13/status/141246215675128...\n",
              "12     1529.0  ...                https://i.redd.it/l9e0jclp2r471.jpg\n",
              "13     1404.0  ...                https://i.redd.it/lyuu8s9v11571.jpg\n",
              "14      165.0  ...                https://i.redd.it/x1dvjg4wgj871.jpg\n",
              "15      939.0  ...                    https://v.redd.it/znweln68xv971\n",
              "16      917.0  ...                https://i.redd.it/8wo4lqzv51671.jpg\n",
              "17      159.0  ...  https://www.cooperativa.cl/noticias/pais/polit...\n",
              "18      989.0  ...                https://i.redd.it/5n5cy3f079771.jpg\n",
              "19      911.0  ...                https://i.redd.it/cganma3a5o571.jpg\n",
              "\n",
              "[20 rows x 4 columns]"
            ]
          },
          "metadata": {
            "tags": []
          },
          "execution_count": 11
        }
      ]
    },
    {
      "cell_type": "code",
      "metadata": {
        "colab": {
          "base_uri": "https://localhost:8080/",
          "height": 542
        },
        "id": "ZZ-AY2XTuLa_",
        "outputId": "e6512d90-8e99-428f-ac9a-42b9b702903a"
      },
      "source": [
        "r_order = order[::-1][-20:]\n",
        "data_dic = {'mean':posterior_mean[r_order], 'std_err':std_err[r_order], 'post':ordered_post[::-1]}\n",
        "df = pd.DataFrame(data=data_dic)\n",
        "fig = px.scatter(df, x=\"mean\", y=\"post\",\n",
        "                 error_x=\"std_err\")\n",
        "fig.show()"
      ],
      "execution_count": 12,
      "outputs": [
        {
          "output_type": "display_data",
          "data": {
            "text/html": [
              "<html>\n",
              "<head><meta charset=\"utf-8\" /></head>\n",
              "<body>\n",
              "    <div>\n",
              "            <script src=\"https://cdnjs.cloudflare.com/ajax/libs/mathjax/2.7.5/MathJax.js?config=TeX-AMS-MML_SVG\"></script><script type=\"text/javascript\">if (window.MathJax) {MathJax.Hub.Config({SVG: {font: \"STIX-Web\"}});}</script>\n",
              "                <script type=\"text/javascript\">window.PlotlyConfig = {MathJaxConfig: 'local'};</script>\n",
              "        <script src=\"https://cdn.plot.ly/plotly-latest.min.js\"></script>    \n",
              "            <div id=\"faf967aa-63e6-4c34-9066-22ac75449300\" class=\"plotly-graph-div\" style=\"height:525px; width:100%;\"></div>\n",
              "            <script type=\"text/javascript\">\n",
              "                \n",
              "                    window.PLOTLYENV=window.PLOTLYENV || {};\n",
              "                    \n",
              "                if (document.getElementById(\"faf967aa-63e6-4c34-9066-22ac75449300\")) {\n",
              "                    Plotly.newPlot(\n",
              "                        'faf967aa-63e6-4c34-9066-22ac75449300',\n",
              "                        [{\"error_x\": {\"array\": [0.0056253505582812, 0.005434129024886393, 0.010184988717390346, 0.005589197441737776, 0.005460520064648188, 0.009821252489162923, 0.004474889880371351, 0.004245560211451991, 0.00760360514881143, 0.0067622378216942855, 0.006521687781190601, 0.0060439151974455325, 0.004700835513653499, 0.004621830505300871, 0.004034217711408382, 0.003674823807269373, 0.003618412313529001, 0.003142851419742223, 0.002282155487370207, 0.0017609381625636148]}, \"hoverlabel\": {\"namelength\": 0}, \"hovertemplate\": \"mean=%{x}<br>post=%{y}\", \"legendgroup\": \"\", \"marker\": {\"color\": \"#636efa\", \"symbol\": \"circle\"}, \"mode\": \"markers\", \"name\": \"\", \"showlegend\": false, \"type\": \"scatter\", \"x\": [0.9891540130151844, 0.989010989010989, 0.9937888198757764, 0.9892241379310345, 0.9894736842105263, 0.9940119760479041, 0.9894366197183099, 0.9896507115135834, 0.9953703703703703, 0.9958847736625515, 0.996031746031746, 0.9963235294117647, 0.9971428571428571, 0.9971910112359551, 0.9975490196078431, 0.9977678571428571, 0.9978021978021978, 0.9980916030534351, 0.9986149584487535, 0.9989316239316239], \"xaxis\": \"x\", \"y\": [\"El delivery de reineta en Conc\\u00f3n\", \"Odio Talca\", \"[Video] \\\"Una pena\\\": Concejal se encontr\\u00f3 con \\\"bodegas repletas de peluches\\\" en Maip\\u00fa\", \"Pi\\u00f1era es in\\u00fatil\", \"POV: Entraste a la bodega de la Municipalidad de Maip\\u00fa\", \"primera bomba de bencina, puente alto a\\u00f1o 1936\", \"los candidatos seg\\u00fan twitter\", \"Soporte VTR\", \"#AlertaT13 | Gobierno reconoce que padre de beb\\u00e9 con cepa Delta no fue invitado a EEUU por La Casa Blanca, como inform\\u00f3 un d\\u00eda antes la subsecretaria Daza. Viajero es cu\\u00f1ado del jefe de gabinete del ministro Delgado.\", \"el arriero Don Jose catal\\u00e1n junto a dos sobrevivientes de la ca\\u00edda del avi\\u00f3n uruguayo en la cordillera de los Andes 1972\", \"Con 99% de aprobaci\\u00f3n: Bomberos es la instituci\\u00f3n mejor evaluada de Chile seg\\u00fan Cadem\", \"Cuando el chico Paris y Siches eran compa\\u00f1eros de lucha\", \"Avi\\u00f3n Ping\\u00fcino Rey de Aerov\\u00edas DAP que vuela entre Punta Arenas y la Ant\\u00e1rtica chilena\", \"Fotograf\\u00eda de un vendedor ambulante en la Plaza de la Rep\\u00fablica, Valdivia. 1941 Colorizada por mi.\", \"Juan Carlos Bodoque, This Charming Man (Video oficial por Lonsoo.mp4)\", \"Ays\\u00e9n hoy 2, no se subieron todas juntas (Bonus el Mocka).\", \"El bombardero de Lo Prado: \\\"Se lo mando seco en el hocico\\\"\", \"\\u00bfQu\\u00e9 hacer con Talca? Bueno...\", \"Debate presidencial 2005, pregunta clave de Mauricio Hofmann\", \"Gato andino extremadmente raro mirando una c\\u00e1mara en la naturaleza (no supe qu\\u00e9 flair ponerle)\"], \"yaxis\": \"y\"}],\n",
              "                        {\"legend\": {\"tracegroupgap\": 0}, \"margin\": {\"t\": 60}, \"template\": {\"data\": {\"bar\": [{\"error_x\": {\"color\": \"#2a3f5f\"}, \"error_y\": {\"color\": \"#2a3f5f\"}, \"marker\": {\"line\": {\"color\": \"#E5ECF6\", \"width\": 0.5}}, \"type\": \"bar\"}], \"barpolar\": [{\"marker\": {\"line\": {\"color\": \"#E5ECF6\", \"width\": 0.5}}, \"type\": \"barpolar\"}], \"carpet\": [{\"aaxis\": {\"endlinecolor\": \"#2a3f5f\", \"gridcolor\": \"white\", \"linecolor\": \"white\", \"minorgridcolor\": \"white\", \"startlinecolor\": \"#2a3f5f\"}, \"baxis\": {\"endlinecolor\": \"#2a3f5f\", \"gridcolor\": \"white\", \"linecolor\": \"white\", \"minorgridcolor\": \"white\", \"startlinecolor\": \"#2a3f5f\"}, \"type\": \"carpet\"}], \"choropleth\": [{\"colorbar\": {\"outlinewidth\": 0, \"ticks\": \"\"}, \"type\": \"choropleth\"}], \"contour\": [{\"colorbar\": {\"outlinewidth\": 0, \"ticks\": \"\"}, \"colorscale\": [[0.0, \"#0d0887\"], [0.1111111111111111, \"#46039f\"], [0.2222222222222222, \"#7201a8\"], [0.3333333333333333, \"#9c179e\"], [0.4444444444444444, \"#bd3786\"], [0.5555555555555556, \"#d8576b\"], [0.6666666666666666, \"#ed7953\"], [0.7777777777777778, \"#fb9f3a\"], [0.8888888888888888, \"#fdca26\"], [1.0, \"#f0f921\"]], \"type\": \"contour\"}], \"contourcarpet\": [{\"colorbar\": {\"outlinewidth\": 0, \"ticks\": \"\"}, \"type\": \"contourcarpet\"}], \"heatmap\": [{\"colorbar\": {\"outlinewidth\": 0, \"ticks\": \"\"}, \"colorscale\": [[0.0, \"#0d0887\"], [0.1111111111111111, \"#46039f\"], [0.2222222222222222, \"#7201a8\"], [0.3333333333333333, \"#9c179e\"], [0.4444444444444444, \"#bd3786\"], [0.5555555555555556, \"#d8576b\"], [0.6666666666666666, \"#ed7953\"], [0.7777777777777778, \"#fb9f3a\"], [0.8888888888888888, \"#fdca26\"], [1.0, \"#f0f921\"]], \"type\": \"heatmap\"}], \"heatmapgl\": [{\"colorbar\": {\"outlinewidth\": 0, \"ticks\": \"\"}, \"colorscale\": [[0.0, \"#0d0887\"], [0.1111111111111111, \"#46039f\"], [0.2222222222222222, \"#7201a8\"], [0.3333333333333333, \"#9c179e\"], [0.4444444444444444, \"#bd3786\"], [0.5555555555555556, \"#d8576b\"], [0.6666666666666666, \"#ed7953\"], [0.7777777777777778, \"#fb9f3a\"], [0.8888888888888888, \"#fdca26\"], [1.0, \"#f0f921\"]], \"type\": \"heatmapgl\"}], \"histogram\": [{\"marker\": {\"colorbar\": {\"outlinewidth\": 0, \"ticks\": \"\"}}, \"type\": \"histogram\"}], \"histogram2d\": [{\"colorbar\": {\"outlinewidth\": 0, \"ticks\": \"\"}, \"colorscale\": [[0.0, \"#0d0887\"], [0.1111111111111111, \"#46039f\"], [0.2222222222222222, \"#7201a8\"], [0.3333333333333333, \"#9c179e\"], [0.4444444444444444, \"#bd3786\"], [0.5555555555555556, \"#d8576b\"], [0.6666666666666666, \"#ed7953\"], [0.7777777777777778, \"#fb9f3a\"], [0.8888888888888888, \"#fdca26\"], [1.0, \"#f0f921\"]], \"type\": \"histogram2d\"}], \"histogram2dcontour\": [{\"colorbar\": {\"outlinewidth\": 0, \"ticks\": \"\"}, \"colorscale\": [[0.0, \"#0d0887\"], [0.1111111111111111, \"#46039f\"], [0.2222222222222222, \"#7201a8\"], [0.3333333333333333, \"#9c179e\"], [0.4444444444444444, \"#bd3786\"], [0.5555555555555556, \"#d8576b\"], [0.6666666666666666, \"#ed7953\"], [0.7777777777777778, \"#fb9f3a\"], [0.8888888888888888, \"#fdca26\"], [1.0, \"#f0f921\"]], \"type\": \"histogram2dcontour\"}], \"mesh3d\": [{\"colorbar\": {\"outlinewidth\": 0, \"ticks\": \"\"}, \"type\": \"mesh3d\"}], \"parcoords\": [{\"line\": {\"colorbar\": {\"outlinewidth\": 0, \"ticks\": \"\"}}, \"type\": \"parcoords\"}], \"pie\": [{\"automargin\": true, \"type\": \"pie\"}], \"scatter\": [{\"marker\": {\"colorbar\": {\"outlinewidth\": 0, \"ticks\": \"\"}}, \"type\": \"scatter\"}], \"scatter3d\": [{\"line\": {\"colorbar\": {\"outlinewidth\": 0, \"ticks\": \"\"}}, \"marker\": {\"colorbar\": {\"outlinewidth\": 0, \"ticks\": \"\"}}, \"type\": \"scatter3d\"}], \"scattercarpet\": [{\"marker\": {\"colorbar\": {\"outlinewidth\": 0, \"ticks\": \"\"}}, \"type\": \"scattercarpet\"}], \"scattergeo\": [{\"marker\": {\"colorbar\": {\"outlinewidth\": 0, \"ticks\": \"\"}}, \"type\": \"scattergeo\"}], \"scattergl\": [{\"marker\": {\"colorbar\": {\"outlinewidth\": 0, \"ticks\": \"\"}}, \"type\": \"scattergl\"}], \"scattermapbox\": [{\"marker\": {\"colorbar\": {\"outlinewidth\": 0, \"ticks\": \"\"}}, \"type\": \"scattermapbox\"}], \"scatterpolar\": [{\"marker\": {\"colorbar\": {\"outlinewidth\": 0, \"ticks\": \"\"}}, \"type\": \"scatterpolar\"}], \"scatterpolargl\": [{\"marker\": {\"colorbar\": {\"outlinewidth\": 0, \"ticks\": \"\"}}, \"type\": \"scatterpolargl\"}], \"scatterternary\": [{\"marker\": {\"colorbar\": {\"outlinewidth\": 0, \"ticks\": \"\"}}, \"type\": \"scatterternary\"}], \"surface\": [{\"colorbar\": {\"outlinewidth\": 0, \"ticks\": \"\"}, \"colorscale\": [[0.0, \"#0d0887\"], [0.1111111111111111, \"#46039f\"], [0.2222222222222222, \"#7201a8\"], [0.3333333333333333, \"#9c179e\"], [0.4444444444444444, \"#bd3786\"], [0.5555555555555556, \"#d8576b\"], [0.6666666666666666, \"#ed7953\"], [0.7777777777777778, \"#fb9f3a\"], [0.8888888888888888, \"#fdca26\"], [1.0, \"#f0f921\"]], \"type\": \"surface\"}], \"table\": [{\"cells\": {\"fill\": {\"color\": \"#EBF0F8\"}, \"line\": {\"color\": \"white\"}}, \"header\": {\"fill\": {\"color\": \"#C8D4E3\"}, \"line\": {\"color\": \"white\"}}, \"type\": \"table\"}]}, \"layout\": {\"annotationdefaults\": {\"arrowcolor\": \"#2a3f5f\", \"arrowhead\": 0, \"arrowwidth\": 1}, \"coloraxis\": {\"colorbar\": {\"outlinewidth\": 0, \"ticks\": \"\"}}, \"colorscale\": {\"diverging\": [[0, \"#8e0152\"], [0.1, \"#c51b7d\"], [0.2, \"#de77ae\"], [0.3, \"#f1b6da\"], [0.4, \"#fde0ef\"], [0.5, \"#f7f7f7\"], [0.6, \"#e6f5d0\"], [0.7, \"#b8e186\"], [0.8, \"#7fbc41\"], [0.9, \"#4d9221\"], [1, \"#276419\"]], \"sequential\": [[0.0, \"#0d0887\"], [0.1111111111111111, \"#46039f\"], [0.2222222222222222, \"#7201a8\"], [0.3333333333333333, \"#9c179e\"], [0.4444444444444444, \"#bd3786\"], [0.5555555555555556, \"#d8576b\"], [0.6666666666666666, \"#ed7953\"], [0.7777777777777778, \"#fb9f3a\"], [0.8888888888888888, \"#fdca26\"], [1.0, \"#f0f921\"]], \"sequentialminus\": [[0.0, \"#0d0887\"], [0.1111111111111111, \"#46039f\"], [0.2222222222222222, \"#7201a8\"], [0.3333333333333333, \"#9c179e\"], [0.4444444444444444, \"#bd3786\"], [0.5555555555555556, \"#d8576b\"], [0.6666666666666666, \"#ed7953\"], [0.7777777777777778, \"#fb9f3a\"], [0.8888888888888888, \"#fdca26\"], [1.0, \"#f0f921\"]]}, \"colorway\": [\"#636efa\", \"#EF553B\", \"#00cc96\", \"#ab63fa\", \"#FFA15A\", \"#19d3f3\", \"#FF6692\", \"#B6E880\", \"#FF97FF\", \"#FECB52\"], \"font\": {\"color\": \"#2a3f5f\"}, \"geo\": {\"bgcolor\": \"white\", \"lakecolor\": \"white\", \"landcolor\": \"#E5ECF6\", \"showlakes\": true, \"showland\": true, \"subunitcolor\": \"white\"}, \"hoverlabel\": {\"align\": \"left\"}, \"hovermode\": \"closest\", \"mapbox\": {\"style\": \"light\"}, \"paper_bgcolor\": \"white\", \"plot_bgcolor\": \"#E5ECF6\", \"polar\": {\"angularaxis\": {\"gridcolor\": \"white\", \"linecolor\": \"white\", \"ticks\": \"\"}, \"bgcolor\": \"#E5ECF6\", \"radialaxis\": {\"gridcolor\": \"white\", \"linecolor\": \"white\", \"ticks\": \"\"}}, \"scene\": {\"xaxis\": {\"backgroundcolor\": \"#E5ECF6\", \"gridcolor\": \"white\", \"gridwidth\": 2, \"linecolor\": \"white\", \"showbackground\": true, \"ticks\": \"\", \"zerolinecolor\": \"white\"}, \"yaxis\": {\"backgroundcolor\": \"#E5ECF6\", \"gridcolor\": \"white\", \"gridwidth\": 2, \"linecolor\": \"white\", \"showbackground\": true, \"ticks\": \"\", \"zerolinecolor\": \"white\"}, \"zaxis\": {\"backgroundcolor\": \"#E5ECF6\", \"gridcolor\": \"white\", \"gridwidth\": 2, \"linecolor\": \"white\", \"showbackground\": true, \"ticks\": \"\", \"zerolinecolor\": \"white\"}}, \"shapedefaults\": {\"line\": {\"color\": \"#2a3f5f\"}}, \"ternary\": {\"aaxis\": {\"gridcolor\": \"white\", \"linecolor\": \"white\", \"ticks\": \"\"}, \"baxis\": {\"gridcolor\": \"white\", \"linecolor\": \"white\", \"ticks\": \"\"}, \"bgcolor\": \"#E5ECF6\", \"caxis\": {\"gridcolor\": \"white\", \"linecolor\": \"white\", \"ticks\": \"\"}}, \"title\": {\"x\": 0.05}, \"xaxis\": {\"automargin\": true, \"gridcolor\": \"white\", \"linecolor\": \"white\", \"ticks\": \"\", \"title\": {\"standoff\": 15}, \"zerolinecolor\": \"white\", \"zerolinewidth\": 2}, \"yaxis\": {\"automargin\": true, \"gridcolor\": \"white\", \"linecolor\": \"white\", \"ticks\": \"\", \"title\": {\"standoff\": 15}, \"zerolinecolor\": \"white\", \"zerolinewidth\": 2}}}, \"xaxis\": {\"anchor\": \"y\", \"domain\": [0.0, 1.0], \"title\": {\"text\": \"mean\"}}, \"yaxis\": {\"anchor\": \"x\", \"domain\": [0.0, 1.0], \"title\": {\"text\": \"post\"}}},\n",
              "                        {\"responsive\": true}\n",
              "                    ).then(function(){\n",
              "                            \n",
              "var gd = document.getElementById('faf967aa-63e6-4c34-9066-22ac75449300');\n",
              "var x = new MutationObserver(function (mutations, observer) {{\n",
              "        var display = window.getComputedStyle(gd).display;\n",
              "        if (!display || display === 'none') {{\n",
              "            console.log([gd, 'removed!']);\n",
              "            Plotly.purge(gd);\n",
              "            observer.disconnect();\n",
              "        }}\n",
              "}});\n",
              "\n",
              "// Listen for the removal of the full notebook cells\n",
              "var notebookContainer = gd.closest('#notebook-container');\n",
              "if (notebookContainer) {{\n",
              "    x.observe(notebookContainer, {childList: true});\n",
              "}}\n",
              "\n",
              "// Listen for the clearing of the current output cell\n",
              "var outputEl = gd.closest('.output');\n",
              "if (outputEl) {{\n",
              "    x.observe(outputEl, {childList: true});\n",
              "}}\n",
              "\n",
              "                        })\n",
              "                };\n",
              "                \n",
              "            </script>\n",
              "        </div>\n",
              "</body>\n",
              "</html>"
            ]
          },
          "metadata": {
            "tags": []
          }
        }
      ]
    },
    {
      "cell_type": "markdown",
      "metadata": {
        "id": "szOjXLKA1Rif"
      },
      "source": [
        "**Respuesta:**"
      ]
    },
    {
      "cell_type": "markdown",
      "metadata": {
        "id": "0F83QdD61Pd1"
      },
      "source": [
        "Al mirar los datos se puede ver que están ordenados por el límite enferior. \n",
        "\n",
        "La solución no resulta trivial, ya que no es claro cuál es el mejor post, el que tiene 1529 upvotes y 15 downvotes o el que tiene solo 214 upvotes."
      ]
    },
    {
      "cell_type": "markdown",
      "metadata": {
        "id": "Rg4ZMq8ezAH6"
      },
      "source": [
        "# Conclusión\n",
        "Eso ha sido todo para el lab de hoy, recuerden que el laboratorio tiene un plazo de entrega de una semana y que **los días de atraso no se pueden utilizar para entregas de lab, solo para tareas**. Cualquier duda del laboratorio, no duden en contactarnos por mail o U-cursos.\n",
        "\n",
        "<p align=\"center\">\n",
        "  <img src=\"https://media1.tenor.com/images/fb5bf7cc5a4acb91b4177672886a88ba/tenor.gif?itemid=5591338\">\n",
        "</p>"
      ]
    }
  ]
}